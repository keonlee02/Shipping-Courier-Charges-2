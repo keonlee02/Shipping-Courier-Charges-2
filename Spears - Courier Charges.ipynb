{
 "cells": [
  {
   "cell_type": "code",
   "execution_count": 1,
   "id": "3157dc64",
   "metadata": {
    "tags": []
   },
   "outputs": [
    {
     "name": "stdout",
     "output_type": "stream",
     "text": [
      "---------------- Your Results ----------------\n"
     ]
    }
   ],
   "source": [
    "import pandas as pd\n",
    "import numpy as np\n",
    "import math\n",
    "import decimal\n",
    "\n",
    "\n",
    "#dtype = {'Part Code' : str, 'Units' : str, 'Description' : str, 'Size(inch)' : str, 'Std Box Qty' : int, 'Wt KG' : float, 'Total Weight (KG)': float, 'L(cm)' : float, 'B(cm)' : float, 'H(cm)' : float, 'Volume(cm^3)' : float}\n",
    "#DONE-----------\n",
    "df1 = pd.read_csv('Spears.csv', low_memory=False, skiprows=1)\n",
    "df1.columns = ['Part Code','Units','Description','Size(inch)', 'Std Box Qty', 'Wt KG','Total Weight (KG)', 'L(cm)', 'B(cm)', 'H(cm)', 'Volume(cm^3)']\n",
    "\n",
    "#n = str(input(\"Enter Part Code: \"))\n",
    "m = 2000\n",
    "#m = int(input(\"Enter Total Number of Pc(s): \"))\n",
    "fuel = 30\n",
    "#fuel = input(\"Enter Fuel Surcharge (%): \")\n",
    "print(\"---------------- Your Results ----------------\")\n",
    "\n",
    "df2 = df1[df1['Part Code'] == \"806-002\"]\n"
   ]
  },
  {
   "cell_type": "code",
   "execution_count": 2,
   "id": "dbf3a468",
   "metadata": {},
   "outputs": [
    {
     "name": "stdout",
     "output_type": "stream",
     "text": [
      "Weight of Box(KG):  0.5\n",
      "Boxes Required:  40\n",
      "Physical Weight(KG): 40.0\n",
      "Volumetric Weight(KG): 19.456\n",
      "----------------------------------------------\n"
     ]
    }
   ],
   "source": [
    "#DONE-----------\n",
    "indv_weight = df2['Wt KG'].values[0]\n",
    "total_weight = df2['Total Weight (KG)'].values[0]\n",
    "sbq = df2['Std Box Qty'].values[0]\n",
    "\n",
    "phys_weight = indv_weight*m\n",
    "box = total_weight-(indv_weight*sbq)\n",
    "box = float(round(box,2))\n",
    "print(\"Weight of Box(KG): \", box)\n",
    "a = float(m/sbq)\n",
    "box_qty = math.ceil(a)\n",
    "print(\"Boxes Required: \", box_qty)\n",
    "if type(box_qty) is int:\n",
    "    phys_weight = box*(box_qty) + phys_weight\n",
    "else:\n",
    "    phys_weight = box*a + phys_weight\n",
    "\n",
    "phys_weight = round(float(phys_weight),2)\n",
    "print(\"Physical Weight(KG):\" , phys_weight)\n",
    "vol_weight = (df2['Volume(cm^3)'])\n",
    "vol_weight = (float(vol_weight/5000))*box_qty\n",
    "print(\"Volumetric Weight(KG):\", vol_weight)\n",
    "print(\"----------------------------------------------\")"
   ]
  },
  {
   "cell_type": "code",
   "execution_count": 7,
   "id": "e890b982",
   "metadata": {
    "scrolled": true
   },
   "outputs": [
    {
     "name": "stdout",
     "output_type": "stream",
     "text": [
      "Physical Weight of item is greater.\n"
     ]
    },
    {
     "name": "stdin",
     "output_type": "stream",
     "text": [
      "Enter DHL or UPS:  DHL\n"
     ]
    },
    {
     "name": "stdout",
     "output_type": "stream",
     "text": [
      "----------------------------------------------\n"
     ]
    }
   ],
   "source": [
    "#DONE--------------\n",
    "if phys_weight > vol_weight:\n",
    "    x = phys_weight\n",
    "    print(\"Physical Weight of item is greater.\")\n",
    "else:\n",
    "    x = vol_weight\n",
    "    print(\"Volumetric Weight of item is greater.\")\n",
    "x = round(float(x),2)\n",
    "\n",
    "weight = str(math.ceil(x*2)/2)\n",
    "\n",
    "df3 = pd.read_csv('DHLZone5.csv')\n",
    "dhl_dict = dict(zip(df3[\"KG\"].astype(str), df3[\"Price\"].astype(str)))\n",
    "#df4 = pd.read_csv('UPS_Express_Zone5.csv')\n",
    "#ups_express_zone5 = dict(zip(df4[\"Weight\"].astype(str), df4[\"Price\"].astype(str)))\n",
    "#df5 = pd.read_csv('UPS_ExpressSaver_Zone5.csv')\n",
    "#ups_saver_zone5 = dict(zip(df5[\"Weight\"].astype(str), df5[\"Price\"].astype(str)))\n",
    "\n",
    "#for key, value in ups_express_zone5.items() :\n",
    "    #print (key, value)\n",
    "weight = float(weight)\n",
    "user_choice = input(\"Enter DHL or UPS: \")\n",
    "\n",
    "def weight_check(user_choice):\n",
    "    if user_choice == \"DHL\":\n",
    "        if weight <= 30:\n",
    "            print(\"DHL Courier Charges($SGD):\", dhl_dict[weight])\n",
    "        else: \n",
    "            if 30 < weight <= 70.1:\n",
    "                multiplier_dhl = 13.69\n",
    "            elif 70.1 < weight <= 300.1:\n",
    "                multiplier_dhl = 13.35\n",
    "            else:\n",
    "                multiplier_dhl = 15.06\n",
    "            charges_dhl = weight*multiplier_dhl\n",
    "            print(\"DHL Courier Charges($SGD):\", charges_dhl) \n",
    "            \n",
    "    fuel_surcharge1 = float(dhl_dict[weight])*((fuel+100)/100)\n",
    "    fuel_surcharge1 = str(math.ceil(fuel_surcharge1*100)/100)\n",
    "     \n",
    "    print(\"DHL Courier Charges with Fuel Surcharge($SGD):\", fuel_surcharge1)\n",
    "    if user_choice == \"UPS\":\n",
    "        if weight <= 21:\n",
    "            weight = str(weight)\n",
    "            print(\"UPS Express Courier Charges($SGD):\", ups_express_zone5[weight])\n",
    "            print(\"UPS ExpressSaver Charges($SGD):\", ups_saver_zone5[weight])\n",
    "        else:\n",
    "            if 21 < weight <= 44:\n",
    "                multiplier_ups = 40.4\n",
    "            elif 44 < weight <= 70:\n",
    "                multiplier_ups = 39\n",
    "            elif 70 < weight <= 99:\n",
    "                multiplier_ups = 36\n",
    "            elif 99 < weight <= 299:\n",
    "                multiplier_ups = 35.9\n",
    "            elif 299 < weight <= 499:\n",
    "                multiplier_ups = 34.3\n",
    "            elif 499 < weight <= 999:\n",
    "                multiplier_ups = 34.3\n",
    "            else:\n",
    "                multiplier_ups = 34.3\n",
    "                \n",
    "        fuel_surcharge2 = float(ups_express_zone5[weight])*((fuel+100)/100)\n",
    "        fuel_surcharge2 = str(math.ceil(fuel_surcharge2*100)/100)\n",
    "        fuel_surcharge3 = float(ups_saver_zone5[weight])*((fuel+100)/100)\n",
    "        fuel_surcharge3 = str(math.ceil(fuel_surcharge3*100)/100)\n",
    "        \n",
    "        print(\"UPS Express Charges with Fuel Surcharge($SGD):\", fuel_surcharge2)\n",
    "        print(\"UPS ExpressSaver with Fuel Surcharge($SGD):\", fuel_surcharge3)\n",
    "\n",
    "\n",
    "\n",
    "\n",
    "\n",
    "print(\"----------------------------------------------\")"
   ]
  },
  {
   "cell_type": "code",
   "execution_count": null,
   "id": "304b3bd7",
   "metadata": {},
   "outputs": [],
   "source": []
  },
  {
   "cell_type": "code",
   "execution_count": null,
   "id": "528924d1-cc06-4a49-9802-9d342b8dca65",
   "metadata": {},
   "outputs": [],
   "source": []
  },
  {
   "cell_type": "code",
   "execution_count": null,
   "id": "ea4d7c0f-288d-49ac-a62a-944c18d7a2f3",
   "metadata": {},
   "outputs": [],
   "source": []
  }
 ],
 "metadata": {
  "kernelspec": {
   "display_name": "Python 3",
   "language": "python",
   "name": "python3"
  },
  "language_info": {
   "codemirror_mode": {
    "name": "ipython",
    "version": 3
   },
   "file_extension": ".py",
   "mimetype": "text/x-python",
   "name": "python",
   "nbconvert_exporter": "python",
   "pygments_lexer": "ipython3",
   "version": "3.8.8"
  }
 },
 "nbformat": 4,
 "nbformat_minor": 5
}
